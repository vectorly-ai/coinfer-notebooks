{
 "cells": [
  {
   "cell_type": "markdown",
   "id": "ee9fc303",
   "metadata": {},
   "source": [
    "# Notebook of experiment\n",
    "\n",
    "First we need to download the experiment result data.\n",
    "\n",
    "You need to provide some information for the script:\n",
    "\n",
    "1. The experiment id\n",
    "2. If the experiment is publicly shared, then that's all, you can just run the notebook.\n",
    "3. Else you need to provide a token which is used to access the experiment."
   ]
  },
  {
   "cell_type": "code",
   "execution_count": null,
   "id": "73c63919",
   "metadata": {
    "vscode": {
     "languageId": "julia"
    }
   },
   "outputs": [],
   "source": [
    "experiment_id = \"\"  # The experiment ID\n",
    "token = \"\"  # leave empty if the experiment is publicly shared\n",
    "\n",
    "endpoint = \"https://dev.coinfer.ai\""
   ]
  },
  {
   "cell_type": "markdown",
   "id": "16c6fb69",
   "metadata": {},
   "source": [
    "Install dependencies."
   ]
  },
  {
   "cell_type": "code",
   "execution_count": null,
   "id": "d3984403",
   "metadata": {
    "vscode": {
     "languageId": "julia"
    }
   },
   "outputs": [],
   "source": [
    "using Pkg\n",
    "Pkg.add(\"CSV\")\n",
    "Pkg.add(\"HTTP\")\n",
    "Pkg.add(\"CodecZlib\")\n",
    "Pkg.add(\"DataFrames\")\n",
    "Pkg.add(\"Plots\")\n",
    "Pkg.add(\"JSON\")\n",
    "\n",
    "using JSON\n",
    "using HTTP\n",
    "using CSV\n",
    "using Downloads\n",
    "using CodecZlib\n",
    "using Statistics\n",
    "using DataFrames\n",
    "using Plots"
   ]
  },
  {
   "cell_type": "markdown",
   "id": "a927123e",
   "metadata": {},
   "source": [
    "Then we can download the experiment result data. The data is generated asynchronously, so we need to wait using a loop until the data is ready.\n",
    "The data is downloaded as a CSV file compressed using gzip. We decompress it after download, and then save it to \"/tmp/<experiment_id>.csv\"."
   ]
  },
  {
   "cell_type": "code",
   "execution_count": null,
   "id": "27ba9197",
   "metadata": {
    "vscode": {
     "languageId": "julia"
    }
   },
   "outputs": [],
   "source": [
    "headers = Dict{String, String}()\n",
    "if !isempty(token)\n",
    "    headers[\"Authorization\"] = \"Bearer $(token)\"\n",
    "end\n",
    "\n",
    "function get_sample_data_sync(experiment_id)\n",
    "    println(\"Preparing download file\")\n",
    "    while true\n",
    "        rsp = HTTP.get(\"$(endpoint)/api/object/$(experiment_id)?sampledata=true&fmt=csv\", headers=headers)\n",
    "        rsp_data = JSON.parse(String(rsp.body))\n",
    "        if rsp_data[\"data\"][\"progress\"] == \"done\"\n",
    "            return Downloads.download(rsp_data[\"data\"][\"url\"])\n",
    "        end\n",
    "        sleep(1)\n",
    "    end\n",
    "end\n",
    "\n",
    "function decompress_gzip_file(input_path::String, output_path::String)\n",
    "    open(input_path, \"r\") do input\n",
    "        gzip_stream = GzipDecompressorStream(input)\n",
    "\n",
    "        open(output_path, \"w\") do output\n",
    "            buffer = Vector{UInt8}(undef, 8192)\n",
    "            while !eof(gzip_stream)\n",
    "                bytes_read = readbytes!(gzip_stream, buffer)\n",
    "                write(output, view(buffer, 1:bytes_read))\n",
    "            end\n",
    "        end\n",
    "    end\n",
    "end\n",
    "\n",
    "by_chain_name = Dict()\n",
    "if !isfile(\"/tmp/$(experiment_id).csv\")\n",
    "    downloaded_file = get_sample_data_sync(experiment_id)\n",
    "    decompress_gzip_file(downloaded_file, \"/tmp/$(experiment_id).csv\")\n",
    "end"
   ]
  },
  {
   "cell_type": "markdown",
   "id": "c8bb0496",
   "metadata": {},
   "source": [
    "Now we have the experiment result data in csv format. Each line of the csv data contains chain name, variable name and a variable value.\n",
    "Let's reorganize the data by chain name and variable name. It will make our following work easier."
   ]
  },
  {
   "cell_type": "code",
   "execution_count": null,
   "id": "50efa6ab",
   "metadata": {
    "vscode": {
     "languageId": "julia"
    }
   },
   "outputs": [],
   "source": [
    "csv_file = CSV.File(\"/tmp/$(experiment_id).csv\")\n",
    "for (chain, name, val) in csv_file\n",
    "    if !haskey(by_chain_name, chain)\n",
    "        by_chain_name[chain] = Dict()\n",
    "    end\n",
    "\n",
    "    if !haskey(by_chain_name[chain], name)\n",
    "        by_chain_name[chain][name] = Vector()\n",
    "    end\n",
    "    push!(by_chain_name[chain][name], val)\n",
    "end"
   ]
  },
  {
   "cell_type": "markdown",
   "id": "d72b10c1",
   "metadata": {},
   "source": [
    "Now we can calculate the summary statistics for each variable."
   ]
  },
  {
   "cell_type": "code",
   "execution_count": null,
   "id": "e944a5f1",
   "metadata": {
    "vscode": {
     "languageId": "julia"
    }
   },
   "outputs": [],
   "source": [
    "function rnd3(f)\n",
    "    round(f; digits=3)\n",
    "end\n",
    "\n",
    "cells = []\n",
    "for (chain, chain_data) in by_chain_name\n",
    "    for (name, val) in chain_data\n",
    "        parts = split(name, \"/\")\n",
    "        if length(parts) == 2 && parts[2] == \"val\"\n",
    "            f_val = [parse(Float64, _val) for _val in val]\n",
    "            push!(cells, (chain=chain, name=name, mean=rnd3(mean(f_val)), std=rnd3(std(f_val)), num=length(f_val)))\n",
    "        end\n",
    "    end\n",
    "end\n",
    "println(DataFrame(cells))\n",
    "\n",
    "\n",
    "cells = []\n",
    "by_name = Dict()\n",
    "for (chain, chain_data) in by_chain_name\n",
    "    for (name, val) in chain_data\n",
    "        parts = split(name, \"/\")\n",
    "        if length(parts) == 2 && parts[2] == \"val\"\n",
    "            if !haskey(by_name, name)\n",
    "                by_name[name] = Vector()\n",
    "            end\n",
    "            append!(by_name[name], val)\n",
    "        end\n",
    "    end\n",
    "end\n",
    "\n",
    "for (name, val) in by_name\n",
    "    f_val = [parse(Float64, _val) for _val in val]\n",
    "    push!(cells, (name=name, mean=rnd3(mean(f_val)), std=rnd3(std(f_val)), num=length(f_val)))\n",
    "end\n",
    "println(DataFrame(cells))"
   ]
  },
  {
   "cell_type": "markdown",
   "id": "70ee3412",
   "metadata": {},
   "source": [
    "Let's make a plot for one variable"
   ]
  },
  {
   "cell_type": "code",
   "execution_count": null,
   "id": "cb4ec41b",
   "metadata": {
    "vscode": {
     "languageId": "julia"
    }
   },
   "outputs": [],
   "source": [
    "plots = []\n",
    "a_name = iterate(keys(by_name))[1]\n",
    "for (chain, chain_data) in by_chain_name\n",
    "    for (name, val) in chain_data\n",
    "        if a_name != name\n",
    "            continue\n",
    "        end\n",
    "        is_float_value = tryparse(Float64, val[1]) !== nothing\n",
    "        is_bool_value = tryparse(Bool, val[1]) !== nothing\n",
    "        if !is_float_value && !is_bool_value\n",
    "            continue\n",
    "        end\n",
    "\n",
    "        f_val = [rnd3(parse(Float64, _val)) for _val in val]\n",
    "        push!(plots, plot(f_val, title=chain))\n",
    "    end\n",
    "end\n",
    "plot(plots...; layout=(length(plots), 1), title=a_name)"
   ]
  }
 ],
 "metadata": {
    "colab": {
      "provenance": []
    },
    "kernelspec": {
      "display_name": "Julia",
      "name": "julia"
    },
    "language_info": {
      "name": "julia"
    }
 },
 "nbformat": 4,
 "nbformat_minor": 5
}
