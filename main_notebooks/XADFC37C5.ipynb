{
 "cells": [
  {
   "cell_type": "markdown",
   "id": "f58215b7",
   "metadata": {},
   "source": [
    "# mystifying_aryabhata(XADFC37C5)"
   ]
  },
  {
   "cell_type": "markdown",
   "id": "47c5b6ce",
   "metadata": {},
   "source": [
    "First we need to download the experiment result data.\n",
    "\n",
    "You need to provide some information for the script to authenticate:\n",
    "1. If you are the creator of the experiment, you can provide your token. You can get a token following the instructions [here](https://coinfer.mintlify.app/essentials/quickstart#create-api-token).\n",
    "2. If you are viewing an experiment share by others, depending on the way they create the share, you may need to provide:\n",
    "    1. You token, if they share the experiment explicitly with you\n",
    "    2. A share password, if the share is protected by a password\n",
    "    3. Nothing, if the share is created for public access."
   ]
  },
  {
   "cell_type": "code",
   "execution_count": null,
   "id": "af5460b0",
   "metadata": {
    "vscode": {
     "languageId": "julia"
    }
   },
   "outputs": [],
   "source": [
    "token = \"\"  # Put a correct token here if you are the creator of the experiment or you are the share target user\n",
    "share_password = \"\"  # Put a correct share password if this experiment share is protected by a password\n",
    "# If the experiment is shared publicly, you can leave the above two variables empty.\n",
    "\n",
    "sdk_path = \"SDK_PATH\"\n",
    "endpoint = \"https://api.coinfer.ai\""
   ]
  },
  {
   "cell_type": "markdown",
   "id": "37be8ce3",
   "metadata": {},
   "source": [
    "Install dependencies."
   ]
  },
  {
   "cell_type": "code",
   "execution_count": null,
   "id": "c4bed2fd",
   "metadata": {
    "vscode": {
     "languageId": "julia"
    }
   },
   "outputs": [],
   "source": [
    "using Pkg\n",
    "Pkg.develop(path=sdk_path)\n",
    "Pkg.add(\"CSV\")\n",
    "Pkg.add(\"HTTP\")\n",
    "Pkg.add(\"CodecZlib\")\n",
    "Pkg.add(\"DataFrames\")\n",
    "Pkg.add(\"Plots\")\n",
    "\n",
    "using APIClient\n",
    "using CSV\n",
    "using Downloads\n",
    "using CodecZlib\n",
    "using Statistics\n",
    "using DataFrames\n",
    "using Plots"
   ]
  },
  {
   "cell_type": "markdown",
   "id": "8fea5120",
   "metadata": {},
   "source": [
    "Then we can download the experiment result data using the Julia SDK. The data is generated asynchronously, so we need to wait using a loop until the data is ready.\n",
    "The data is downloaded as a CSV file compressed using gzip. We decompress it after download, and then save it to \"/tmp/<experiment_id>.csv\"."
   ]
  },
  {
   "cell_type": "code",
   "execution_count": null,
   "id": "195c33e4",
   "metadata": {
    "vscode": {
     "languageId": "julia"
    }
   },
   "outputs": [],
   "source": [
    "headers = Dict{String, String}()\n",
    "if !isempty(share_password)\n",
    "    headers[\"X-Share-Password\"] = share_password\n",
    "elseif !isempty(token)\n",
    "    headers[\"Authorization\"] = \"Bearer $(token)\"\n",
    "end\n",
    "client = APIClient.OpenAPI.Clients.Client(endpoint; headers=headers)\n",
    "experiment_api = APIClient.ExperimentApi(client)\n",
    "\n",
    "function get_sample_data_sync(experiment_id)\n",
    "    println(\"Preparing download file\")\n",
    "    while true\n",
    "        rsp = APIClient.get_sample_data(experiment_api, experiment_id, \"csv\")\n",
    "        if rsp[1].data.progress == \"done\"\n",
    "            return Downloads.download(rsp[1].data.url)\n",
    "        end\n",
    "        sleep(1)\n",
    "    end\n",
    "end\n",
    "\n",
    "function decompress_gzip_file(input_path::String, output_path::String)\n",
    "    open(input_path, \"r\") do input\n",
    "        gzip_stream = GzipDecompressorStream(input)\n",
    "\n",
    "        open(output_path, \"w\") do output\n",
    "            buffer = Vector{UInt8}(undef, 8192)\n",
    "            while !eof(gzip_stream)\n",
    "                bytes_read = readbytes!(gzip_stream, buffer)\n",
    "                write(output, view(buffer, 1:bytes_read))\n",
    "            end\n",
    "        end\n",
    "    end\n",
    "end\n",
    "\n",
    "by_chain_name = Dict()\n",
    "if !isfile(\"/tmp/XADFC37C5.csv\")\n",
    "    downloaded_file = get_sample_data_sync(\"XADFC37C5\")\n",
    "    decompress_gzip_file(downloaded_file, \"/tmp/XADFC37C5.csv\")\n",
    "end"
   ]
  },
  {
   "cell_type": "markdown",
   "id": "9daa1162",
   "metadata": {},
   "source": [
    "Now we have the experiment result data in csv format. Each line of the csv data contains chain name, variable name and a variable value.\n",
    "Let's reorganize the data by chain name and variable name. It will make our following work easier."
   ]
  },
  {
   "cell_type": "code",
   "execution_count": null,
   "id": "3eb044df",
   "metadata": {
    "vscode": {
     "languageId": "julia"
    }
   },
   "outputs": [],
   "source": [
    "csv_file = CSV.File(\"/tmp/XADFC37C5.csv\")\n",
    "for (chain, name, val) in csv_file\n",
    "    if !haskey(by_chain_name, chain)\n",
    "        by_chain_name[chain] = Dict()\n",
    "    end\n",
    "\n",
    "    if !haskey(by_chain_name[chain], name)\n",
    "        by_chain_name[chain][name] = Vector()\n",
    "    end\n",
    "    push!(by_chain_name[chain][name], val)\n",
    "end"
   ]
  },
  {
   "cell_type": "markdown",
   "id": "e71bfb26",
   "metadata": {},
   "source": [
    "Now we can calculate the summary statistics for each variable."
   ]
  },
  {
   "cell_type": "code",
   "execution_count": null,
   "id": "3c76acf4",
   "metadata": {
    "vscode": {
     "languageId": "julia"
    }
   },
   "outputs": [],
   "source": [
    "function rnd3(f)\n",
    "    round(f; digits=3)\n",
    "end\n",
    "\n",
    "cells = []\n",
    "for (chain, chain_data) in by_chain_name\n",
    "    for (name, val) in chain_data\n",
    "        parts = split(name, \"/\")\n",
    "        if length(parts) == 2 && parts[2] == \"val\"\n",
    "            f_val = [parse(Float64, _val) for _val in val]\n",
    "            push!(cells, (chain=chain, name=name, mean=rnd3(mean(f_val)), std=rnd3(std(f_val)), num=length(f_val)))\n",
    "        end\n",
    "    end\n",
    "end\n",
    "println(DataFrame(cells))\n",
    "\n",
    "\n",
    "cells = []\n",
    "by_name = Dict()\n",
    "for (chain, chain_data) in by_chain_name\n",
    "    for (name, val) in chain_data\n",
    "        parts = split(name, \"/\")\n",
    "        if length(parts) == 2 && parts[2] == \"val\"\n",
    "            if !haskey(by_name, name)\n",
    "                by_name[name] = Vector()\n",
    "            end\n",
    "            append!(by_name[name], val)\n",
    "        end\n",
    "    end\n",
    "end\n",
    "\n",
    "for (name, val) in by_name\n",
    "    f_val = [parse(Float64, _val) for _val in val]\n",
    "    push!(cells, (name=name, mean=rnd3(mean(f_val)), std=rnd3(std(f_val)), num=length(f_val)))\n",
    "end\n",
    "println(DataFrame(cells))"
   ]
  },
  {
   "cell_type": "markdown",
   "id": "a017197e",
   "metadata": {},
   "source": [
    "Let's make a plot for one variable"
   ]
  },
  {
   "cell_type": "code",
   "execution_count": null,
   "id": "6701c4eb",
   "metadata": {
    "vscode": {
     "languageId": "julia"
    }
   },
   "outputs": [],
   "source": [
    "plots = []\n",
    "a_name = iterate(keys(by_name))[1]\n",
    "for (chain, chain_data) in by_chain_name\n",
    "    for (name, val) in chain_data\n",
    "        if a_name != name\n",
    "            continue\n",
    "        end\n",
    "        is_float_value = tryparse(Float64, val[1]) !== nothing\n",
    "        is_bool_value = tryparse(Bool, val[1]) !== nothing\n",
    "        if !is_float_value && !is_bool_value\n",
    "            continue\n",
    "        end\n",
    "\n",
    "        f_val = [rnd3(parse(Float64, _val)) for _val in val]\n",
    "        push!(plots, plot(f_val, title=chain))\n",
    "    end\n",
    "end\n",
    "plot(plots...; layout=(length(plots), 1), title=a_name)"
   ]
  }
 ],
 "metadata": {},
 "nbformat": 4,
 "nbformat_minor": 5
}
